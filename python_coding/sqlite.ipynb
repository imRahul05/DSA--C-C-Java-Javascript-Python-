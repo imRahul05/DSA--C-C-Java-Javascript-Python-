{
 "cells": [
  {
   "cell_type": "code",
   "execution_count": null,
   "metadata": {},
   "outputs": [],
   "source": [
    "import pandas as pd\n",
    "import sqlite3\n",
    "!pip insatll ipython-sql\n",
    "mca = pd.DataFrame({ 'Rolno': [1,2,3,4],\n",
    "                     'Name': ['vishal', 'omkar', 'nitish', 'wasu'],\n",
    "                      'Age': [21,22,23,24],\n",
    "                      'Marks':[340,356,387,375]})\n",
    "print(mca)               \n",
    "cnn = sqlite3.connect('college.db')\n",
    "mca.to_sql('student',cnn)\n",
    "\n",
    "# %load_ext sql\n",
    "%sql sqlite:///college.db"
   ]
  }
 ],
 "metadata": {
  "language_info": {
   "name": "python"
  }
 },
 "nbformat": 4,
 "nbformat_minor": 2
}
